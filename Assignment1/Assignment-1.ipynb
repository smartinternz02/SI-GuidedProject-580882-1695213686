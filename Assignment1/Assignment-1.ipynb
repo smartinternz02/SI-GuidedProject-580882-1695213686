{
 "cells": [
  {
   "cell_type": "markdown",
   "metadata": {},
   "source": [
    "# Import Required Libraries\n",
    "Import the necessary libraries, including NumPy and Pandas."
   ]
  },
  {
   "cell_type": "code",
   "execution_count": 1,
   "metadata": {},
   "outputs": [],
   "source": [
    "# Import necessary libraries\n",
    "import numpy as np\n",
    "import pandas as pd"
   ]
  },
  {
   "cell_type": "markdown",
   "metadata": {},
   "source": [
    "# Create Pandas DataFrame with Numpy Random Values\n",
    "Use NumPy to create a 4x4 array of random values, then use Pandas to convert it into a DataFrame with column names 'Random value 1', 'Random value 2', 'Random value 3', and 'Random value 4'."
   ]
  },
  {
   "cell_type": "code",
   "execution_count": 2,
   "metadata": {},
   "outputs": [],
   "source": [
    "# Create a 4x4 array of random values using NumPy\n",
    "random_array = np.random.rand(4,4)\n",
    "\n",
    "# Convert the array into a Pandas DataFrame with column names\n",
    "df = pd.DataFrame(random_array, columns=['Random value 1', 'Random value 2', 'Random value 3', 'Random value 4'])"
   ]
  },
  {
   "cell_type": "markdown",
   "metadata": {},
   "source": [
    "# Rename DataFrame Column Names\n",
    "Use the rename() function to rename the column names of the DataFrame from '0', '1', '2', and '3' to 'Random value 1', 'Random value 2', 'Random value 3', and 'Random value 4'."
   ]
  },
  {
   "cell_type": "code",
   "execution_count": 3,
   "metadata": {},
   "outputs": [],
   "source": [
    "# Use the rename() function to rename the column names of the DataFrame\n",
    "df = df.rename(columns={'0': 'Random value 1', '1': 'Random value 2', '2': 'Random value 3', '3': 'Random value 4'})"
   ]
  },
  {
   "cell_type": "markdown",
   "metadata": {},
   "source": [
    "# Find Descriptive Statistics of DataFrame\n",
    "Use the describe() function to find the descriptive statistics of the DataFrame."
   ]
  },
  {
   "cell_type": "code",
   "execution_count": 4,
   "metadata": {},
   "outputs": [
    {
     "data": {
      "text/html": [
       "<div>\n",
       "<style scoped>\n",
       "    .dataframe tbody tr th:only-of-type {\n",
       "        vertical-align: middle;\n",
       "    }\n",
       "\n",
       "    .dataframe tbody tr th {\n",
       "        vertical-align: top;\n",
       "    }\n",
       "\n",
       "    .dataframe thead th {\n",
       "        text-align: right;\n",
       "    }\n",
       "</style>\n",
       "<table border=\"1\" class=\"dataframe\">\n",
       "  <thead>\n",
       "    <tr style=\"text-align: right;\">\n",
       "      <th></th>\n",
       "      <th>Random value 1</th>\n",
       "      <th>Random value 2</th>\n",
       "      <th>Random value 3</th>\n",
       "      <th>Random value 4</th>\n",
       "    </tr>\n",
       "  </thead>\n",
       "  <tbody>\n",
       "    <tr>\n",
       "      <th>count</th>\n",
       "      <td>4.000000</td>\n",
       "      <td>4.000000</td>\n",
       "      <td>4.000000</td>\n",
       "      <td>4.000000</td>\n",
       "    </tr>\n",
       "    <tr>\n",
       "      <th>mean</th>\n",
       "      <td>0.487779</td>\n",
       "      <td>0.598025</td>\n",
       "      <td>0.702054</td>\n",
       "      <td>0.432248</td>\n",
       "    </tr>\n",
       "    <tr>\n",
       "      <th>std</th>\n",
       "      <td>0.256577</td>\n",
       "      <td>0.222281</td>\n",
       "      <td>0.117587</td>\n",
       "      <td>0.211198</td>\n",
       "    </tr>\n",
       "    <tr>\n",
       "      <th>min</th>\n",
       "      <td>0.274286</td>\n",
       "      <td>0.314084</td>\n",
       "      <td>0.574639</td>\n",
       "      <td>0.263536</td>\n",
       "    </tr>\n",
       "    <tr>\n",
       "      <th>25%</th>\n",
       "      <td>0.280563</td>\n",
       "      <td>0.483891</td>\n",
       "      <td>0.621649</td>\n",
       "      <td>0.278174</td>\n",
       "    </tr>\n",
       "    <tr>\n",
       "      <th>50%</th>\n",
       "      <td>0.437169</td>\n",
       "      <td>0.627261</td>\n",
       "      <td>0.699716</td>\n",
       "      <td>0.373332</td>\n",
       "    </tr>\n",
       "    <tr>\n",
       "      <th>75%</th>\n",
       "      <td>0.644386</td>\n",
       "      <td>0.741396</td>\n",
       "      <td>0.780121</td>\n",
       "      <td>0.527406</td>\n",
       "    </tr>\n",
       "    <tr>\n",
       "      <th>max</th>\n",
       "      <td>0.802493</td>\n",
       "      <td>0.823495</td>\n",
       "      <td>0.834145</td>\n",
       "      <td>0.718793</td>\n",
       "    </tr>\n",
       "  </tbody>\n",
       "</table>\n",
       "</div>"
      ],
      "text/plain": [
       "       Random value 1  Random value 2  Random value 3  Random value 4\n",
       "count        4.000000        4.000000        4.000000        4.000000\n",
       "mean         0.487779        0.598025        0.702054        0.432248\n",
       "std          0.256577        0.222281        0.117587        0.211198\n",
       "min          0.274286        0.314084        0.574639        0.263536\n",
       "25%          0.280563        0.483891        0.621649        0.278174\n",
       "50%          0.437169        0.627261        0.699716        0.373332\n",
       "75%          0.644386        0.741396        0.780121        0.527406\n",
       "max          0.802493        0.823495        0.834145        0.718793"
      ]
     },
     "execution_count": 4,
     "metadata": {},
     "output_type": "execute_result"
    }
   ],
   "source": [
    "# Use the describe() function to find the descriptive statistics of the DataFrame\n",
    "df.describe()"
   ]
  },
  {
   "cell_type": "markdown",
   "metadata": {},
   "source": [
    "# Check for Null Values and Data Types of Columns\n",
    "Use the info() function to check for null values and find the data types of the columns."
   ]
  },
  {
   "cell_type": "code",
   "execution_count": 5,
   "metadata": {},
   "outputs": [
    {
     "name": "stdout",
     "output_type": "stream",
     "text": [
      "<class 'pandas.core.frame.DataFrame'>\n",
      "RangeIndex: 4 entries, 0 to 3\n",
      "Data columns (total 4 columns):\n",
      " #   Column          Non-Null Count  Dtype  \n",
      "---  ------          --------------  -----  \n",
      " 0   Random value 1  4 non-null      float64\n",
      " 1   Random value 2  4 non-null      float64\n",
      " 2   Random value 3  4 non-null      float64\n",
      " 3   Random value 4  4 non-null      float64\n",
      "dtypes: float64(4)\n",
      "memory usage: 256.0 bytes\n"
     ]
    }
   ],
   "source": [
    "# Use the info() function to check for null values and find the data types of the columns\n",
    "df.info()"
   ]
  },
  {
   "cell_type": "markdown",
   "metadata": {},
   "source": [
    "# Display Columns with Location and Index Location Methods\n",
    "Use the iloc[] and loc[] methods to display the 'Random value 2' and 'Random value 3' columns."
   ]
  },
  {
   "cell_type": "code",
   "execution_count": 6,
   "metadata": {},
   "outputs": [
    {
     "data": {
      "text/html": [
       "<div>\n",
       "<style scoped>\n",
       "    .dataframe tbody tr th:only-of-type {\n",
       "        vertical-align: middle;\n",
       "    }\n",
       "\n",
       "    .dataframe tbody tr th {\n",
       "        vertical-align: top;\n",
       "    }\n",
       "\n",
       "    .dataframe thead th {\n",
       "        text-align: right;\n",
       "    }\n",
       "</style>\n",
       "<table border=\"1\" class=\"dataframe\">\n",
       "  <thead>\n",
       "    <tr style=\"text-align: right;\">\n",
       "      <th></th>\n",
       "      <th>Random value 2</th>\n",
       "      <th>Random value 3</th>\n",
       "    </tr>\n",
       "  </thead>\n",
       "  <tbody>\n",
       "    <tr>\n",
       "      <th>0</th>\n",
       "      <td>0.314084</td>\n",
       "      <td>0.637319</td>\n",
       "    </tr>\n",
       "    <tr>\n",
       "      <th>1</th>\n",
       "      <td>0.714029</td>\n",
       "      <td>0.834145</td>\n",
       "    </tr>\n",
       "    <tr>\n",
       "      <th>2</th>\n",
       "      <td>0.823495</td>\n",
       "      <td>0.762113</td>\n",
       "    </tr>\n",
       "    <tr>\n",
       "      <th>3</th>\n",
       "      <td>0.540494</td>\n",
       "      <td>0.574639</td>\n",
       "    </tr>\n",
       "  </tbody>\n",
       "</table>\n",
       "</div>"
      ],
      "text/plain": [
       "   Random value 2  Random value 3\n",
       "0        0.314084        0.637319\n",
       "1        0.714029        0.834145\n",
       "2        0.823495        0.762113\n",
       "3        0.540494        0.574639"
      ]
     },
     "execution_count": 6,
     "metadata": {},
     "output_type": "execute_result"
    }
   ],
   "source": [
    "# Use the iloc[] method to display the 'Random value 2' and 'Random value 3' columns\n",
    "df.iloc[:, [1, 2]]\n",
    "\n",
    "# Use the loc[] method to display the 'Random value 2' and 'Random value 3' columns\n",
    "df.loc[:, ['Random value 2', 'Random value 3']]"
   ]
  }
 ],
 "metadata": {
  "kernelspec": {
   "display_name": "Python 3",
   "language": "python",
   "name": "python3"
  },
  "language_info": {
   "codemirror_mode": {
    "name": "ipython",
    "version": 3
   },
   "file_extension": ".py",
   "mimetype": "text/x-python",
   "name": "python",
   "nbconvert_exporter": "python",
   "pygments_lexer": "ipython3",
   "version": "3.10.9"
  },
  "orig_nbformat": 4
 },
 "nbformat": 4,
 "nbformat_minor": 2
}
